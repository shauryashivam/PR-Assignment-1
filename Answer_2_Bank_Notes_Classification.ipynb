{
 "cells": [
  {
   "cell_type": "markdown",
   "metadata": {
    "id": "PTEYjloixumE"
   },
   "source": [
    "# **PATTERN RECOGNITION ASSIGNMENT 1**\n",
    "\n",
    "# **CO-324**\n",
    "\n",
    "## **2021 Semester VI**\n",
    "\n",
    "## **Submitted to: Sh. Anurag Goel**\n",
    "### **Submitted By: Saksham Gera (2K18/EE/179) & Shivam Shaurya(2K18/EE/194)**\n"
   ]
  },
  {
   "cell_type": "markdown",
   "metadata": {
    "id": "znCbdRFL1s3w"
   },
   "source": [
    "# **ANSWER 2: BANK NOTES CLASSIFICATION** "
   ]
  },
  {
   "cell_type": "markdown",
   "metadata": {
    "id": "pJbYDpCWvQdc"
   },
   "source": [
    "## **Required Libraries:**\n",
    "\n",
    "## **Numpy**\n",
    "\n",
    "\n",
    "![image.png](data:image/png;base64,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)\n",
    "\n",
    "NumPy is the fundamental package for scientific computing in Python. It is a Python library that provides a multidimensional array object, various derived objects (such as masked arrays and matrices), and an assortment of routines for fast operations on arrays, including mathematical, logical, shape manipulation, sorting, selecting, I/O, discrete Fourier transforms, basic linear algebra, basic statistical operations, random simulation and much more.\n",
    "\n",
    "Documentation Link: https://numpy.org/doc/stable/contents.html\n",
    "\n",
    "### **Pandas** \n",
    "\n",
    "![image.png](data:image/png;base64,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)\n",
    "\n",
    "pandas is an open source, BSD-licensed library providing high-performance, easy-to-use data structures and data analysis tools for the Python programming language.\n",
    "\n",
    "Documentation Link: https://pandas.pydata.org/docs/\n",
    "\n",
    "\n",
    "### **Sci-Kit Learn**\n",
    "\n",
    "![image.png](data:image/png;base64,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)\n",
    "\n",
    "Scikit-learn is an open source machine learning library that supports supervised and unsupervised learning. It also provides various tools for model fitting, data preprocessing, model selection and evaluation, and many other utilities.\n",
    "\n",
    "Documentation Link: https://scikit-learn.org/stable/\n"
   ]
  },
  {
   "cell_type": "code",
   "execution_count": 21,
   "metadata": {
    "id": "tvT958BnvOpR"
   },
   "outputs": [],
   "source": [
    "import numpy as np\n",
    "import matplotlib.pyplot as plt\n",
    "from sklearn.naive_bayes import GaussianNB\n",
    "from sklearn.metrics import confusion_matrix\n",
    "from sklearn import metrics\n",
    "import pandas as pd\n",
    "from sklearn.model_selection import train_test_split"
   ]
  },
  {
   "cell_type": "markdown",
   "metadata": {
    "id": "a8kzfs_B7xnf"
   },
   "source": [
    "**About the Dataset**\n",
    "\n",
    "The data is available in .csv file where each line corresponds to a bank note and the five values, separated by commas, are, in order, the four features (variance, skewness and kurtosis of Wavelet Transformed image and the entropy of the bank note image) and the class label, an integer with values 0 for real bank notes and 1 for fake bank notes.\n"
   ]
  },
  {
   "cell_type": "code",
   "execution_count": 22,
   "metadata": {
    "id": "XPqHo9-2CsuX"
   },
   "outputs": [],
   "source": [
    "url='https://raw.githubusercontent.com/killer4639/bank-note-authentication/master/data.csv'\n",
    "df=pd.read_csv(url)"
   ]
  },
  {
   "cell_type": "code",
   "execution_count": 23,
   "metadata": {
    "colab": {
     "base_uri": "https://localhost:8080/",
     "height": 198
    },
    "id": "KmkR60Yc6MNy",
    "outputId": "55fc3518-2331-4829-fdb8-af959309fff0"
   },
   "outputs": [
    {
     "data": {
      "text/html": [
       "<div>\n",
       "<style scoped>\n",
       "    .dataframe tbody tr th:only-of-type {\n",
       "        vertical-align: middle;\n",
       "    }\n",
       "\n",
       "    .dataframe tbody tr th {\n",
       "        vertical-align: top;\n",
       "    }\n",
       "\n",
       "    .dataframe thead th {\n",
       "        text-align: right;\n",
       "    }\n",
       "</style>\n",
       "<table border=\"1\" class=\"dataframe\">\n",
       "  <thead>\n",
       "    <tr style=\"text-align: right;\">\n",
       "      <th></th>\n",
       "      <th>0.37637</th>\n",
       "      <th>-0.82358</th>\n",
       "      <th>0.78543</th>\n",
       "      <th>0.74524</th>\n",
       "      <th>1</th>\n",
       "    </tr>\n",
       "  </thead>\n",
       "  <tbody>\n",
       "    <tr>\n",
       "      <th>0</th>\n",
       "      <td>3.24030</td>\n",
       "      <td>-3.70820</td>\n",
       "      <td>5.28040</td>\n",
       "      <td>0.41291</td>\n",
       "      <td>0</td>\n",
       "    </tr>\n",
       "    <tr>\n",
       "      <th>1</th>\n",
       "      <td>3.58290</td>\n",
       "      <td>1.44230</td>\n",
       "      <td>1.02190</td>\n",
       "      <td>1.40080</td>\n",
       "      <td>0</td>\n",
       "    </tr>\n",
       "    <tr>\n",
       "      <th>2</th>\n",
       "      <td>0.86202</td>\n",
       "      <td>2.69630</td>\n",
       "      <td>4.29080</td>\n",
       "      <td>0.54739</td>\n",
       "      <td>0</td>\n",
       "    </tr>\n",
       "    <tr>\n",
       "      <th>3</th>\n",
       "      <td>-0.21661</td>\n",
       "      <td>8.03290</td>\n",
       "      <td>1.88480</td>\n",
       "      <td>-3.88530</td>\n",
       "      <td>0</td>\n",
       "    </tr>\n",
       "    <tr>\n",
       "      <th>4</th>\n",
       "      <td>0.11806</td>\n",
       "      <td>0.39108</td>\n",
       "      <td>-0.98223</td>\n",
       "      <td>0.42843</td>\n",
       "      <td>1</td>\n",
       "    </tr>\n",
       "  </tbody>\n",
       "</table>\n",
       "</div>"
      ],
      "text/plain": [
       "   0.37637  -0.82358  0.78543  0.74524  1\n",
       "0  3.24030  -3.70820  5.28040  0.41291  0\n",
       "1  3.58290   1.44230  1.02190  1.40080  0\n",
       "2  0.86202   2.69630  4.29080  0.54739  0\n",
       "3 -0.21661   8.03290  1.88480 -3.88530  0\n",
       "4  0.11806   0.39108 -0.98223  0.42843  1"
      ]
     },
     "execution_count": 23,
     "metadata": {
      "tags": []
     },
     "output_type": "execute_result"
    }
   ],
   "source": [
    "df.head()"
   ]
  },
  {
   "cell_type": "markdown",
   "metadata": {
    "id": "pbJyZ34V6dSf"
   },
   "source": [
    "### **For Priori = [0.1,0.9]**"
   ]
  },
  {
   "cell_type": "code",
   "execution_count": 24,
   "metadata": {
    "id": "LPvdNchFDJWM"
   },
   "outputs": [],
   "source": [
    "train, test = train_test_split(df, test_size=0.5)"
   ]
  },
  {
   "cell_type": "code",
   "execution_count": 25,
   "metadata": {
    "colab": {
     "base_uri": "https://localhost:8080/",
     "height": 407
    },
    "id": "RJV3Xn_xEmNc",
    "outputId": "c9081cd7-7193-4386-9ab4-cb71aef2026b"
   },
   "outputs": [
    {
     "data": {
      "text/html": [
       "<div>\n",
       "<style scoped>\n",
       "    .dataframe tbody tr th:only-of-type {\n",
       "        vertical-align: middle;\n",
       "    }\n",
       "\n",
       "    .dataframe tbody tr th {\n",
       "        vertical-align: top;\n",
       "    }\n",
       "\n",
       "    .dataframe thead th {\n",
       "        text-align: right;\n",
       "    }\n",
       "</style>\n",
       "<table border=\"1\" class=\"dataframe\">\n",
       "  <thead>\n",
       "    <tr style=\"text-align: right;\">\n",
       "      <th></th>\n",
       "      <th>0.37637</th>\n",
       "      <th>-0.82358</th>\n",
       "      <th>0.78543</th>\n",
       "      <th>0.74524</th>\n",
       "    </tr>\n",
       "  </thead>\n",
       "  <tbody>\n",
       "    <tr>\n",
       "      <th>310</th>\n",
       "      <td>4.36840</td>\n",
       "      <td>9.67180</td>\n",
       "      <td>-3.96060</td>\n",
       "      <td>-3.162500</td>\n",
       "    </tr>\n",
       "    <tr>\n",
       "      <th>1318</th>\n",
       "      <td>-4.14290</td>\n",
       "      <td>2.77490</td>\n",
       "      <td>0.68261</td>\n",
       "      <td>-0.719840</td>\n",
       "    </tr>\n",
       "    <tr>\n",
       "      <th>1055</th>\n",
       "      <td>0.33565</td>\n",
       "      <td>6.83690</td>\n",
       "      <td>0.69718</td>\n",
       "      <td>-0.556910</td>\n",
       "    </tr>\n",
       "    <tr>\n",
       "      <th>513</th>\n",
       "      <td>0.74307</td>\n",
       "      <td>11.17000</td>\n",
       "      <td>-1.38240</td>\n",
       "      <td>-4.072800</td>\n",
       "    </tr>\n",
       "    <tr>\n",
       "      <th>1262</th>\n",
       "      <td>2.61400</td>\n",
       "      <td>8.00810</td>\n",
       "      <td>-3.72580</td>\n",
       "      <td>-1.306900</td>\n",
       "    </tr>\n",
       "    <tr>\n",
       "      <th>...</th>\n",
       "      <td>...</td>\n",
       "      <td>...</td>\n",
       "      <td>...</td>\n",
       "      <td>...</td>\n",
       "    </tr>\n",
       "    <tr>\n",
       "      <th>982</th>\n",
       "      <td>-2.36750</td>\n",
       "      <td>-0.43663</td>\n",
       "      <td>1.69200</td>\n",
       "      <td>-0.430180</td>\n",
       "    </tr>\n",
       "    <tr>\n",
       "      <th>953</th>\n",
       "      <td>2.80840</td>\n",
       "      <td>11.30450</td>\n",
       "      <td>-3.33940</td>\n",
       "      <td>-4.419400</td>\n",
       "    </tr>\n",
       "    <tr>\n",
       "      <th>323</th>\n",
       "      <td>4.34350</td>\n",
       "      <td>3.32950</td>\n",
       "      <td>0.83598</td>\n",
       "      <td>0.649550</td>\n",
       "    </tr>\n",
       "    <tr>\n",
       "      <th>227</th>\n",
       "      <td>1.16400</td>\n",
       "      <td>3.91300</td>\n",
       "      <td>-4.55440</td>\n",
       "      <td>-3.867200</td>\n",
       "    </tr>\n",
       "    <tr>\n",
       "      <th>726</th>\n",
       "      <td>5.85190</td>\n",
       "      <td>5.39050</td>\n",
       "      <td>-2.40370</td>\n",
       "      <td>-0.061652</td>\n",
       "    </tr>\n",
       "  </tbody>\n",
       "</table>\n",
       "<p>685 rows × 4 columns</p>\n",
       "</div>"
      ],
      "text/plain": [
       "      0.37637  -0.82358  0.78543   0.74524\n",
       "310   4.36840   9.67180 -3.96060 -3.162500\n",
       "1318 -4.14290   2.77490  0.68261 -0.719840\n",
       "1055  0.33565   6.83690  0.69718 -0.556910\n",
       "513   0.74307  11.17000 -1.38240 -4.072800\n",
       "1262  2.61400   8.00810 -3.72580 -1.306900\n",
       "...       ...       ...      ...       ...\n",
       "982  -2.36750  -0.43663  1.69200 -0.430180\n",
       "953   2.80840  11.30450 -3.33940 -4.419400\n",
       "323   4.34350   3.32950  0.83598  0.649550\n",
       "227   1.16400   3.91300 -4.55440 -3.867200\n",
       "726   5.85190   5.39050 -2.40370 -0.061652\n",
       "\n",
       "[685 rows x 4 columns]"
      ]
     },
     "execution_count": 25,
     "metadata": {
      "tags": []
     },
     "output_type": "execute_result"
    }
   ],
   "source": [
    "x_train=train.iloc[:,:-1]\n",
    "x_train"
   ]
  },
  {
   "cell_type": "code",
   "execution_count": 26,
   "metadata": {
    "colab": {
     "base_uri": "https://localhost:8080/"
    },
    "id": "oDRaW3PYFE83",
    "outputId": "e2592f2b-9bd5-4e99-e6ad-1646bac6d6c7"
   },
   "outputs": [
    {
     "data": {
      "text/plain": [
       "310     0\n",
       "1318    1\n",
       "1055    0\n",
       "513     0\n",
       "1262    0\n",
       "       ..\n",
       "982     1\n",
       "953     0\n",
       "323     0\n",
       "227     1\n",
       "726     0\n",
       "Name: 1, Length: 685, dtype: int64"
      ]
     },
     "execution_count": 26,
     "metadata": {
      "tags": []
     },
     "output_type": "execute_result"
    }
   ],
   "source": [
    "y_train=train.iloc[:,4]\n",
    "y_train"
   ]
  },
  {
   "cell_type": "code",
   "execution_count": 27,
   "metadata": {
    "id": "iQ-eIErdF050"
   },
   "outputs": [],
   "source": [
    "x_test=test.iloc[:,:-1]\n",
    "y_test=test.iloc[:,4]"
   ]
  },
  {
   "cell_type": "code",
   "execution_count": 28,
   "metadata": {
    "colab": {
     "base_uri": "https://localhost:8080/"
    },
    "id": "eiL8ZfPNGIUd",
    "outputId": "cc61562c-1f76-4461-9ff3-12cd0d54942f"
   },
   "outputs": [
    {
     "data": {
      "text/plain": [
       "array([0, 0, 0, 0, 0, 1, 0, 1, 0, 0, 0, 0, 1, 1, 0, 0, 1, 0, 1, 0, 1, 0,\n",
       "       0, 0, 0, 1, 0, 0, 0, 0, 1, 0, 0, 1, 0, 1, 1, 0, 1, 0, 0, 1, 1, 1,\n",
       "       0, 0, 0, 1, 0, 1, 0, 1, 0, 1, 1, 0, 0, 0, 1, 0, 0, 0, 0, 0, 0, 0,\n",
       "       0, 0, 0, 0, 0, 0, 0, 0, 0, 0, 1, 1, 1, 0, 0, 1, 1, 1, 1, 0, 1, 1,\n",
       "       1, 1, 1, 1, 0, 1, 1, 0, 0, 0, 1, 1, 1, 1, 1, 0, 1, 0, 0, 1, 1, 1,\n",
       "       0, 1, 1, 0, 0, 1, 1, 1, 0, 1, 0, 0, 0, 1, 1, 0, 1, 0, 1, 1, 0, 0,\n",
       "       0, 0, 1, 0, 0, 1, 1, 0, 1, 1, 0, 1, 1, 1, 0, 1, 0, 1, 0, 1, 0, 1,\n",
       "       0, 1, 0, 0, 0, 0, 1, 1, 1, 0, 1, 1, 1, 1, 1, 1, 1, 1, 0, 0, 1, 0,\n",
       "       1, 0, 1, 0, 0, 0, 0, 0, 0, 0, 1, 1, 0, 0, 0, 0, 0, 1, 0, 1, 0, 0,\n",
       "       0, 0, 0, 0, 0, 0, 0, 1, 0, 0, 0, 0, 1, 1, 0, 0, 1, 0, 0, 1, 0, 0,\n",
       "       1, 1, 1, 0, 1, 0, 0, 1, 1, 0, 0, 1, 0, 0, 0, 0, 1, 0, 0, 1, 0, 1,\n",
       "       0, 1, 0, 1, 1, 1, 1, 1, 0, 0, 1, 0, 0, 1, 0, 0, 1, 0, 0, 0, 0, 0,\n",
       "       1, 0, 1, 0, 0, 1, 0, 1, 1, 1, 1, 0, 0, 1, 0, 1, 0, 1, 0, 1, 1, 1,\n",
       "       0, 0, 1, 1, 0, 0, 0, 1, 1, 0, 0, 1, 1, 0, 1, 0, 0, 1, 1, 0, 1, 1,\n",
       "       0, 1, 1, 1, 1, 0, 0, 0, 1, 0, 1, 0, 0, 0, 0, 0, 0, 1, 1, 0, 1, 1,\n",
       "       0, 1, 0, 1, 0, 0, 0, 0, 0, 0, 1, 0, 0, 0, 0, 0, 0, 1, 0, 0, 1, 0,\n",
       "       0, 0, 0, 1, 1, 0, 1, 1, 0, 0, 0, 0, 0, 0, 0, 0, 0, 1, 1, 1, 0, 0,\n",
       "       1, 1, 0, 1, 1, 1, 0, 0, 0, 0, 1, 0, 1, 1, 1, 0, 0, 1, 0, 1, 0, 0,\n",
       "       0, 1, 0, 1, 0, 0, 1, 1, 0, 0, 0, 1, 0, 0, 0, 0, 0, 1, 0, 1, 1, 1,\n",
       "       0, 1, 0, 1, 1, 0, 0, 1, 1, 1, 0, 0, 0, 0, 1, 0, 0, 1, 1, 1, 0, 1,\n",
       "       1, 1, 1, 0, 0, 0, 1, 1, 0, 0, 1, 0, 1, 1, 0, 1, 1, 0, 1, 0, 0, 0,\n",
       "       0, 0, 0, 0, 0, 0, 1, 1, 0, 0, 0, 1, 1, 1, 0, 0, 0, 1, 1, 1, 0, 0,\n",
       "       0, 1, 0, 0, 1, 0, 1, 0, 1, 0, 0, 0, 1, 0, 1, 0, 0, 1, 0, 0, 0, 1,\n",
       "       0, 0, 0, 1, 0, 0, 1, 1, 0, 0, 0, 1, 1, 0, 1, 0, 0, 0, 1, 0, 1, 1,\n",
       "       1, 1, 1, 1, 0, 0, 1, 1, 0, 1, 1, 1, 1, 1, 0, 1, 0, 0, 0, 0, 0, 0,\n",
       "       1, 0, 1, 1, 1, 0, 1, 0, 0, 0, 1, 1, 1, 0, 1, 0, 1, 1, 1, 1, 0, 1,\n",
       "       1, 0, 0, 1, 0, 1, 1, 0, 0, 1, 1, 0, 0, 0, 0, 1, 0, 1, 0, 0, 1, 0,\n",
       "       1, 0, 1, 0, 1, 0, 1, 0, 0, 0, 1, 0, 0, 0, 0, 0, 0, 0, 0, 1, 0, 0,\n",
       "       1, 1, 0, 0, 0, 1, 0, 0, 0, 0, 0, 0, 1, 0, 0, 0, 1, 0, 1, 1, 1, 1,\n",
       "       0, 0, 0, 1, 0, 0, 0, 0, 1, 0, 0, 1, 0, 0, 0, 1, 0, 0, 1, 1, 1, 0,\n",
       "       0, 0, 1, 0, 0, 1, 0, 1, 0, 0, 1, 0, 0, 1, 0, 0, 1, 1, 0, 0, 1, 1,\n",
       "       1, 1, 1, 1])"
      ]
     },
     "execution_count": 28,
     "metadata": {
      "tags": []
     },
     "output_type": "execute_result"
    }
   ],
   "source": [
    "x_train.to_numpy()\n",
    "x_test.to_numpy()\n",
    "y_train.to_numpy()\n",
    "y_test.to_numpy()"
   ]
  },
  {
   "cell_type": "code",
   "execution_count": 29,
   "metadata": {
    "id": "hXCQygl4HDGs"
   },
   "outputs": [],
   "source": [
    "nb_model=GaussianNB(priors=[0.1,0.9])"
   ]
  },
  {
   "cell_type": "code",
   "execution_count": 30,
   "metadata": {
    "id": "NMLrQBG04VeJ"
   },
   "outputs": [],
   "source": [
    "fit_nb=nb_model.fit(x_train,y_train)"
   ]
  },
  {
   "cell_type": "code",
   "execution_count": 31,
   "metadata": {
    "colab": {
     "base_uri": "https://localhost:8080/"
    },
    "id": "Vp5CO7U64lLp",
    "outputId": "2efbcd5f-57f0-4e16-8293-603471f35988"
   },
   "outputs": [
    {
     "name": "stdout",
     "output_type": "stream",
     "text": [
      "[[255 136]\n",
      " [  1 294]]\n"
     ]
    }
   ],
   "source": [
    "prediction=fit_nb.predict(x_test)\n",
    "con_matrix=confusion_matrix(y_test,prediction)\n",
    "print(con_matrix)"
   ]
  },
  {
   "cell_type": "code",
   "execution_count": 32,
   "metadata": {
    "id": "LloqCEy_47ex"
   },
   "outputs": [],
   "source": [
    "def diagonal_sum(con_matrix):\n",
    "  sum=0\n",
    "  totalSum=0\n",
    "  for i in range(2):\n",
    "    for j in range(2):\n",
    "      totalSum+=con_matrix[i][j]\n",
    "      if i==j:\n",
    "        sum+=con_matrix[i][j]\n",
    "  return sum,totalSum"
   ]
  },
  {
   "cell_type": "code",
   "execution_count": 33,
   "metadata": {
    "colab": {
     "base_uri": "https://localhost:8080/"
    },
    "id": "ERqEZaED6BuS",
    "outputId": "a745c061-0ec6-41e6-e8ae-dc917776680a"
   },
   "outputs": [
    {
     "name": "stdout",
     "output_type": "stream",
     "text": [
      "549 686\n"
     ]
    }
   ],
   "source": [
    "sum,totalSum=diagonal_sum(con_matrix)\n",
    "print(sum,totalSum)"
   ]
  },
  {
   "cell_type": "code",
   "execution_count": 34,
   "metadata": {
    "colab": {
     "base_uri": "https://localhost:8080/"
    },
    "id": "ejERwYlw6I3S",
    "outputId": "61404a45-6815-4c0f-9184-2acae5cfc2af"
   },
   "outputs": [
    {
     "name": "stdout",
     "output_type": "stream",
     "text": [
      "Accuracy % : 0.8002915451895044\n"
     ]
    }
   ],
   "source": [
    "print(f'Accuracy % : {sum/totalSum}')"
   ]
  },
  {
   "cell_type": "code",
   "execution_count": 35,
   "metadata": {
    "colab": {
     "base_uri": "https://localhost:8080/",
     "height": 279
    },
    "id": "N_q1zosb6Xni",
    "outputId": "de30a7f4-935e-417f-f7bc-011c67d941d8"
   },
   "outputs": [
    {
     "data": {
      "image/png": "[encoded data removed]",
      "text/plain": [
       "<Figure size 432x288 with 1 Axes>"
      ]
     },
     "metadata": {
      "needs_background": "light",
      "tags": []
     },
     "output_type": "display_data"
    }
   ],
   "source": [
    "metrics.plot_roc_curve(fit_nb, x_test, y_test)\n",
    "plt.show()  "
   ]
  },
  {
   "cell_type": "markdown",
   "metadata": {
    "id": "wdJYTeA2699D"
   },
   "source": [
    "### **For Priori = [0.5,0.5]**"
   ]
  },
  {
   "cell_type": "code",
   "execution_count": 36,
   "metadata": {
    "id": "d2hlJgk7I4In"
   },
   "outputs": [],
   "source": [
    "url='https://raw.githubusercontent.com/killer4639/bank-note-authentication/master/data.csv'\n",
    "df1=pd.read_csv(url)"
   ]
  },
  {
   "cell_type": "code",
   "execution_count": 37,
   "metadata": {
    "colab": {
     "base_uri": "https://localhost:8080/",
     "height": 198
    },
    "id": "GNB9Kdlh7Le1",
    "outputId": "3fddae39-a09e-4428-effb-36a3bf5f5637"
   },
   "outputs": [
    {
     "data": {
      "text/html": [
       "<div>\n",
       "<style scoped>\n",
       "    .dataframe tbody tr th:only-of-type {\n",
       "        vertical-align: middle;\n",
       "    }\n",
       "\n",
       "    .dataframe tbody tr th {\n",
       "        vertical-align: top;\n",
       "    }\n",
       "\n",
       "    .dataframe thead th {\n",
       "        text-align: right;\n",
       "    }\n",
       "</style>\n",
       "<table border=\"1\" class=\"dataframe\">\n",
       "  <thead>\n",
       "    <tr style=\"text-align: right;\">\n",
       "      <th></th>\n",
       "      <th>0.37637</th>\n",
       "      <th>-0.82358</th>\n",
       "      <th>0.78543</th>\n",
       "      <th>0.74524</th>\n",
       "      <th>1</th>\n",
       "    </tr>\n",
       "  </thead>\n",
       "  <tbody>\n",
       "    <tr>\n",
       "      <th>0</th>\n",
       "      <td>3.24030</td>\n",
       "      <td>-3.70820</td>\n",
       "      <td>5.28040</td>\n",
       "      <td>0.41291</td>\n",
       "      <td>0</td>\n",
       "    </tr>\n",
       "    <tr>\n",
       "      <th>1</th>\n",
       "      <td>3.58290</td>\n",
       "      <td>1.44230</td>\n",
       "      <td>1.02190</td>\n",
       "      <td>1.40080</td>\n",
       "      <td>0</td>\n",
       "    </tr>\n",
       "    <tr>\n",
       "      <th>2</th>\n",
       "      <td>0.86202</td>\n",
       "      <td>2.69630</td>\n",
       "      <td>4.29080</td>\n",
       "      <td>0.54739</td>\n",
       "      <td>0</td>\n",
       "    </tr>\n",
       "    <tr>\n",
       "      <th>3</th>\n",
       "      <td>-0.21661</td>\n",
       "      <td>8.03290</td>\n",
       "      <td>1.88480</td>\n",
       "      <td>-3.88530</td>\n",
       "      <td>0</td>\n",
       "    </tr>\n",
       "    <tr>\n",
       "      <th>4</th>\n",
       "      <td>0.11806</td>\n",
       "      <td>0.39108</td>\n",
       "      <td>-0.98223</td>\n",
       "      <td>0.42843</td>\n",
       "      <td>1</td>\n",
       "    </tr>\n",
       "  </tbody>\n",
       "</table>\n",
       "</div>"
      ],
      "text/plain": [
       "   0.37637  -0.82358  0.78543  0.74524  1\n",
       "0  3.24030  -3.70820  5.28040  0.41291  0\n",
       "1  3.58290   1.44230  1.02190  1.40080  0\n",
       "2  0.86202   2.69630  4.29080  0.54739  0\n",
       "3 -0.21661   8.03290  1.88480 -3.88530  0\n",
       "4  0.11806   0.39108 -0.98223  0.42843  1"
      ]
     },
     "execution_count": 37,
     "metadata": {
      "tags": []
     },
     "output_type": "execute_result"
    }
   ],
   "source": [
    "df1.head()"
   ]
  },
  {
   "cell_type": "code",
   "execution_count": 38,
   "metadata": {
    "id": "UkE8FNpb7Mov"
   },
   "outputs": [],
   "source": [
    "train, test = train_test_split(df1, test_size=0.2)"
   ]
  },
  {
   "cell_type": "code",
   "execution_count": 39,
   "metadata": {
    "colab": {
     "base_uri": "https://localhost:8080/",
     "height": 407
    },
    "id": "e9qegeDu7XGO",
    "outputId": "d2e27b54-9ac1-4ab2-b0de-30139281d8b2"
   },
   "outputs": [
    {
     "data": {
      "text/html": [
       "<div>\n",
       "<style scoped>\n",
       "    .dataframe tbody tr th:only-of-type {\n",
       "        vertical-align: middle;\n",
       "    }\n",
       "\n",
       "    .dataframe tbody tr th {\n",
       "        vertical-align: top;\n",
       "    }\n",
       "\n",
       "    .dataframe thead th {\n",
       "        text-align: right;\n",
       "    }\n",
       "</style>\n",
       "<table border=\"1\" class=\"dataframe\">\n",
       "  <thead>\n",
       "    <tr style=\"text-align: right;\">\n",
       "      <th></th>\n",
       "      <th>0.37637</th>\n",
       "      <th>-0.82358</th>\n",
       "      <th>0.78543</th>\n",
       "      <th>0.74524</th>\n",
       "    </tr>\n",
       "  </thead>\n",
       "  <tbody>\n",
       "    <tr>\n",
       "      <th>785</th>\n",
       "      <td>1.53560</td>\n",
       "      <td>9.17720</td>\n",
       "      <td>-2.27180</td>\n",
       "      <td>-0.735350</td>\n",
       "    </tr>\n",
       "    <tr>\n",
       "      <th>528</th>\n",
       "      <td>-0.69572</td>\n",
       "      <td>8.61650</td>\n",
       "      <td>1.84190</td>\n",
       "      <td>-4.328900</td>\n",
       "    </tr>\n",
       "    <tr>\n",
       "      <th>255</th>\n",
       "      <td>1.01350</td>\n",
       "      <td>8.45510</td>\n",
       "      <td>-1.67200</td>\n",
       "      <td>-2.081500</td>\n",
       "    </tr>\n",
       "    <tr>\n",
       "      <th>489</th>\n",
       "      <td>3.62440</td>\n",
       "      <td>1.46090</td>\n",
       "      <td>1.35010</td>\n",
       "      <td>1.928400</td>\n",
       "    </tr>\n",
       "    <tr>\n",
       "      <th>740</th>\n",
       "      <td>0.60050</td>\n",
       "      <td>0.99945</td>\n",
       "      <td>-2.21260</td>\n",
       "      <td>0.097399</td>\n",
       "    </tr>\n",
       "    <tr>\n",
       "      <th>...</th>\n",
       "      <td>...</td>\n",
       "      <td>...</td>\n",
       "      <td>...</td>\n",
       "      <td>...</td>\n",
       "    </tr>\n",
       "    <tr>\n",
       "      <th>271</th>\n",
       "      <td>-2.29870</td>\n",
       "      <td>-5.22700</td>\n",
       "      <td>5.63000</td>\n",
       "      <td>0.917220</td>\n",
       "    </tr>\n",
       "    <tr>\n",
       "      <th>1102</th>\n",
       "      <td>4.99230</td>\n",
       "      <td>7.86530</td>\n",
       "      <td>-2.35150</td>\n",
       "      <td>-0.719840</td>\n",
       "    </tr>\n",
       "    <tr>\n",
       "      <th>122</th>\n",
       "      <td>0.31803</td>\n",
       "      <td>-0.99326</td>\n",
       "      <td>1.09470</td>\n",
       "      <td>0.886190</td>\n",
       "    </tr>\n",
       "    <tr>\n",
       "      <th>517</th>\n",
       "      <td>3.52880</td>\n",
       "      <td>0.71596</td>\n",
       "      <td>1.95070</td>\n",
       "      <td>1.937500</td>\n",
       "    </tr>\n",
       "    <tr>\n",
       "      <th>311</th>\n",
       "      <td>1.83840</td>\n",
       "      <td>6.06300</td>\n",
       "      <td>0.54723</td>\n",
       "      <td>0.512480</td>\n",
       "    </tr>\n",
       "  </tbody>\n",
       "</table>\n",
       "<p>1096 rows × 4 columns</p>\n",
       "</div>"
      ],
      "text/plain": [
       "      0.37637  -0.82358  0.78543   0.74524\n",
       "785   1.53560   9.17720 -2.27180 -0.735350\n",
       "528  -0.69572   8.61650  1.84190 -4.328900\n",
       "255   1.01350   8.45510 -1.67200 -2.081500\n",
       "489   3.62440   1.46090  1.35010  1.928400\n",
       "740   0.60050   0.99945 -2.21260  0.097399\n",
       "...       ...       ...      ...       ...\n",
       "271  -2.29870  -5.22700  5.63000  0.917220\n",
       "1102  4.99230   7.86530 -2.35150 -0.719840\n",
       "122   0.31803  -0.99326  1.09470  0.886190\n",
       "517   3.52880   0.71596  1.95070  1.937500\n",
       "311   1.83840   6.06300  0.54723  0.512480\n",
       "\n",
       "[1096 rows x 4 columns]"
      ]
     },
     "execution_count": 39,
     "metadata": {
      "tags": []
     },
     "output_type": "execute_result"
    }
   ],
   "source": [
    "x_train=train.iloc[:,:-1]\n",
    "x_train"
   ]
  },
  {
   "cell_type": "code",
   "execution_count": 40,
   "metadata": {
    "colab": {
     "base_uri": "https://localhost:8080/"
    },
    "id": "J8XdeNG97a_e",
    "outputId": "a6d5cc36-e29f-462b-b4c1-9042f525725f"
   },
   "outputs": [
    {
     "data": {
      "text/plain": [
       "785     0\n",
       "528     0\n",
       "255     0\n",
       "489     0\n",
       "740     1\n",
       "       ..\n",
       "271     1\n",
       "1102    0\n",
       "122     1\n",
       "517     0\n",
       "311     0\n",
       "Name: 1, Length: 1096, dtype: int64"
      ]
     },
     "execution_count": 40,
     "metadata": {
      "tags": []
     },
     "output_type": "execute_result"
    }
   ],
   "source": [
    "y_train=train.iloc[:,4]\n",
    "y_train"
   ]
  },
  {
   "cell_type": "code",
   "execution_count": 41,
   "metadata": {
    "id": "68as4Lzm7dPw"
   },
   "outputs": [],
   "source": [
    "x_test=test.iloc[:,:-1]\n",
    "y_test=test.iloc[:,4]"
   ]
  },
  {
   "cell_type": "code",
   "execution_count": 42,
   "metadata": {
    "colab": {
     "base_uri": "https://localhost:8080/"
    },
    "id": "YgfwM0Kr7fZk",
    "outputId": "12ebf677-dc2d-427a-ff7a-97826ec5ea9c"
   },
   "outputs": [
    {
     "data": {
      "text/plain": [
       "(1096, 4)"
      ]
     },
     "execution_count": 42,
     "metadata": {
      "tags": []
     },
     "output_type": "execute_result"
    }
   ],
   "source": [
    "x_train.shape"
   ]
  },
  {
   "cell_type": "code",
   "execution_count": 43,
   "metadata": {
    "id": "7-hDDq4n7hJB"
   },
   "outputs": [],
   "source": [
    "nb_model=GaussianNB(priors=[0.5,0.5])"
   ]
  },
  {
   "cell_type": "code",
   "execution_count": 44,
   "metadata": {
    "id": "brtnoDPj7iuD"
   },
   "outputs": [],
   "source": [
    "fit_nb=nb_model.fit(x_train,y_train)\n"
   ]
  },
  {
   "cell_type": "code",
   "execution_count": 45,
   "metadata": {
    "colab": {
     "base_uri": "https://localhost:8080/"
    },
    "id": "ndsBufsP7mO2",
    "outputId": "b96a4031-03e0-4f07-b85a-48dc1fec562c"
   },
   "outputs": [
    {
     "name": "stdout",
     "output_type": "stream",
     "text": [
      "[[120  22]\n",
      " [ 19 114]]\n"
     ]
    }
   ],
   "source": [
    "prediction=fit_nb.predict(x_test)\n",
    "con_matrix=confusion_matrix(y_test,prediction)\n",
    "print(con_matrix)"
   ]
  },
  {
   "cell_type": "code",
   "execution_count": 46,
   "metadata": {
    "id": "c9htlufF7mmy"
   },
   "outputs": [],
   "source": [
    "def diagonal_sum(con_matrix):\n",
    "  sum=0\n",
    "  totalSum=0\n",
    "  for i in range(2):\n",
    "    for j in range(2):\n",
    "      totalSum+=con_matrix[i][j]\n",
    "      if i==j:\n",
    "        sum+=con_matrix[i][j]\n",
    "  return sum,totalSum"
   ]
  },
  {
   "cell_type": "code",
   "execution_count": 47,
   "metadata": {
    "colab": {
     "base_uri": "https://localhost:8080/"
    },
    "id": "5rAblb1G7oOr",
    "outputId": "df3d9480-ffbd-43dc-9a14-733701afeace"
   },
   "outputs": [
    {
     "name": "stdout",
     "output_type": "stream",
     "text": [
      "234 275\n"
     ]
    }
   ],
   "source": [
    "sum,totalSum=diagonal_sum(con_matrix)\n",
    "print(sum,totalSum)"
   ]
  },
  {
   "cell_type": "code",
   "execution_count": 48,
   "metadata": {
    "colab": {
     "base_uri": "https://localhost:8080/"
    },
    "id": "sKfS_8Fy7qxf",
    "outputId": "83d08c15-4c50-4d63-f145-bee411693620"
   },
   "outputs": [
    {
     "name": "stdout",
     "output_type": "stream",
     "text": [
      "Accuracy % : 0.850909090909091\n"
     ]
    }
   ],
   "source": [
    "print(f'Accuracy % : {sum/totalSum}')"
   ]
  },
  {
   "cell_type": "code",
   "execution_count": 49,
   "metadata": {
    "colab": {
     "base_uri": "https://localhost:8080/",
     "height": 279
    },
    "id": "Tl8pUahk7tWw",
    "outputId": "38a7348c-aa8c-4428-8199-9e5d33c7e465"
   },
   "outputs": [
    {
     "data": {
      "image/png": "[encoded data removed]",
      "text/plain": [
       "<Figure size 432x288 with 1 Axes>"
      ]
     },
     "metadata": {
      "needs_background": "light",
      "tags": []
     },
     "output_type": "display_data"
    }
   ],
   "source": [
    "metrics.plot_roc_curve(fit_nb, x_test, y_test)\n",
    "plt.show()  "
   ]
  }
 ],
 "metadata": {
  "colab": {
   "name": "Answer 2: Bank Notes Classification.ipynb",
   "provenance": []
  },
  "kernelspec": {
   "display_name": "Python 3",
   "language": "python",
   "name": "python3"
  },
  "language_info": {
   "codemirror_mode": {
    "name": "ipython",
    "version": 3
   },
   "file_extension": ".py",
   "mimetype": "text/x-python",
   "name": "python",
   "nbconvert_exporter": "python",
   "pygments_lexer": "ipython3",
   "version": "3.7.6"
  }
 },
 "nbformat": 4,
 "nbformat_minor": 1
}
