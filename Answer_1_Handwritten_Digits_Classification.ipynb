{
  "nbformat": 4,
  "nbformat_minor": 0,
  "metadata": {
    "colab": {
      "name": "Answer 1: Handwritten Digits Classification",
      "provenance": [],
      "collapsed_sections": [],
      "include_colab_link": true
    },
    "kernelspec": {
      "name": "python3",
      "display_name": "Python 3"
    }
  },
  "cells": [
    {
      "cell_type": "markdown",
      "metadata": {
        "id": "view-in-github",
        "colab_type": "text"
      },
      "source": [
        "<a href=\"https://colab.research.google.com/github/shauryashivam/PR-Assignment-1/blob/main/Answer_1_Handwritten_Digits_Classification.ipynb\" target=\"_parent\"><img src=\"https://colab.research.google.com/assets/colab-badge.svg\" alt=\"Open In Colab\"/></a>"
      ]
    },
    {
      "cell_type": "markdown",
      "metadata": {
        "id": "PTEYjloixumE"
      },
      "source": [
        "# **PATTERN RECOGNITION ASSIGNMENT 1**\n",
        "\n",
        "# **CO-324**\n",
        "\n",
        "## **2021 Semester VI**\n",
        "\n",
        "##**Submitted to: Sh. Anurag Goel**\n",
        "### **Submitted By: Saksham Gera (2K18/EE/179) & Shivam Shaurya(2K18/EE/194)**\n"
      ]
    },
    {
      "cell_type": "markdown",
      "metadata": {
        "id": "pJbYDpCWvQdc"
      },
      "source": [
        "## **Required Libraries:**\n",
        "\n",
        "## **Numpy**\n",
        "\n",
        "\n",
        "\n",
        "\n",
        "![image.png](data:image/png;base64,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)\n",
        "\n",
        "NumPy is the fundamental package for scientific computing in Python. It is a Python library that provides a multidimensional array object, various derived objects (such as masked arrays and matrices), and an assortment of routines for fast operations on arrays, including mathematical, logical, shape manipulation, sorting, selecting, I/O, discrete Fourier transforms, basic linear algebra, basic statistical operations, random simulation and much more.\n",
        "\n",
        "Documentation Link: https://numpy.org/doc/stable/contents.html\n",
        "\n",
        "### **Pandas** \n",
        "\n",
        "![image.png](data:image/png;base64,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)\n",
        "\n",
        "pandas is an open source, BSD-licensed library providing high-performance, easy-to-use data structures and data analysis tools for the Python programming language.\n",
        "\n",
        "Documentation Link: https://pandas.pydata.org/docs/\n",
        "\n",
        "\n",
        "### **Sci-Kit Learn**\n",
        "\n",
        "![image.png](data:image/png;base64,iVBORw0KGgoAAAANSUhEUgAAAKAAAAA6CAYAAAA3MlIIAAAXlklEQVR4Ae1dCZQU1bm+1TM4LLIjO4oLiOxM99BVPaBETVyCCBEVoyRGYxLXuMegOUGNSUwMKEJ3Vc8IcY1GT6I+TYwvcY8LUw2u0TzFDRXFBUGYqu6Z7v+d71bdmqrq6mamZ2B6ZDhnuLX8d/vvV/92l2ZsD/hHq+bsbahys6kp1P1XAg9UmbYnY9P3AKjsmi7u0JT53cArAXj2B2toCqXV6PG7ZnT2gFINTdlqqHK39GuHBjCSyhl7AFQ6vosZddY00wJfrlsKli4FGxPyRR0/OntAiUYitrQbeKUDT/AurcmXlx1cZsVfHjgtuXZSjZo6rSah3xTRGp6MqKmGsJZ6I6KlGiJa6oFqLbUsojYcH0k0TJ658oXBu7sThia/JZjYnZYOxHSiXABIJM1Q1ylhVX87rKYooukUVlO5iIbrgn+5sKpTxKJvrI6nlkz882t7MSJpVwJyhxYeYaqlM73TAZusJTM5i2C/chu27tBAO9Z6N5tMLebQOnnaYfd5+x+7YFeOVavKrk40LI1o+jYAKczBpu8MeH5QWkDUAEa9OazpGyNqw/daVXkJRGlNXmJ0YQA2rU1S9vO3yEjMJGPldMI/c/WReSA04hHKbfuImp66ntOat8+lpieu44D0gqjEj1FVyNDkH5YwBB2TJazp0bCaeh8SrhXSzg+6gvdhSE+rzE0RLbWkY1rbUoqpKk+ZmtJ1nY/b51H63sWWVCsGQFWm9H3fI/PWYzlt+sFzKJdtIhMStAMkIA/DaMr8Fs7uxquIlrqSq0+tzdKuIPACVHWOg1HVt1arqaM7qnuGpnzUEQPQrjKgPuMRSt//Y8r88ypKP3I5pe891QGGoUbJ/ONRlP7bxZT536s4naHVEjz39D2LKP3QBYEAhFQE0JDPSNRQ5m8XUfquE7iEbFp/G+Wa05R57GrKPHYNmbfNdeortS+NmhztqHFpdTnVWuq+CGy3wrZdh74LaylLRSf1R5Vlz/ZqdUMLEO5K9cvtrlZKl+wnr1Eus4Oa33mKsh+mKJdtJrN+DgF8kFz4l/1yI2XffYZy5jZKP/ATDrqmF+KU3fx6ngpG3ZknfmWp5DvmcQDmtrxLmSd/Teatx1Dz249zCdj00p3U9PLdZP7pxHYCUKbtq+YML8DmXfO4Jt7wIKRSRNupg9GhIER9wrmJJNbPKbV3O+qix+9KByRbH6Mvbp7JB7YoGJO1lMtlKX3nAkuSISYpVGNyFgdR5u+XcDC2lGM5E0EANOpmU9OLdxE1N3FphzxGvIYEALlkfOBsymUaeT38/arqdgEQH3Kp41BSvoiWOo+Db+febUeDzynPsjV1Cif1FaV0wtRidS0DWqLx7ZNwtKaW3vxtNZ0q70MjB+yFQaGl8/el5rri5ecat1D28w2Uefp3XN0aNiDS959FueZMQWchCIDZ956l7BfvkFl3KAc0VGoeAB9sASB/n7A+lFLVr6Epb5YyBiXlCWv6BK521V1q8zlAK6beoZItx0e/o62dMVVlo6m1f/oNIP70ppm0bNFYmr5vHw46AA9/kiQRkySCNCw0uFwCaTFqenYFZd9/zlK3H6Y4gNL/cz5XzY5E9AE+EIAfrafsx69ytSvq3BkABV3pqRxvK/9Lpg9r+oudoHaLATLH44eJ1N9aGzekP59YYWrKttIZ3iLRIN1OU/ZxAAfQVYQk+st5Exwwfr6isIThAExECR8DnBEjHqZck0EAn3nXCZYdt/rwFmkmYn6aQkEAhOTLfvwSZb98nwxblecB0KWC28sDAx9xUp5XMqDakrFaTZ2MwHIxqdRZ7+zwz5Ot6Q8tU3qZqtzYbuarMm1dGfWAD5Jv9RkHEd0So8MPGcDfbb6xpqAEhHRr+veNBNsNgWLzzgWUy+W48wFV3AzHI72dzDXfst7Dk717UVEnBP3Kfvo6Zbd+QEYCoPbZgPcuthyd1UdYdmA8Urh9PqmbxzPEUeORg1vD93bThDX9DcsBKDij0XngVC0POaylHtpZR0kL9zc1JZPHzJ0xO+D9UZMGOgAUqrepTqHcLTE6wgbgV/Fiqj5GzW88RJRp5NIut22T4+Va7YtR5rkV3GkAQfaz/3PieU16PeW2vGd7wdMsabnmSEtaqjJlN66lXOMXBCDntm+mpqd/b9GqMjW/eAenx3+Zhy4oDYCqkoMEpBUHVe2M5+1+PyX+9MDOkm5tqDfHJbTasLBYh6leGWSqcrsC0FCdsO167RXith639xijVacdQAAgra6lYf0tRwRgLAR2roLjYTJWTiPj5ql8RoPH/lxgRxwPMx3GzdPIWDWDxwBRHlfZK6c7ZfP8rmVlAB7K5bTI75J0Vl67zlKdEJgDWuzpYrzusHeRpH7X7oz5tQF0HqkrZmIm1T87qFDnzfisA7jt4hrkQgAp9DyTVGjJt0c70g8ADIUk+mhZDZdAQjXPGt+PS8NC5XTl5/zjqYsdXojPHfecSAprqcYycz48wPMBFrHCewoxoDEh12L6qNTBB+MBsJAkeaTfkL49CMDE++evnMrBuezksVwillpXGefLGarSSFq4RyE+d9jzsKb3j6ipjG+QiwGg09/BVq1Jrp0UxAQzLs9r78Cu++U0B3xC/f7xzHGUhndap9DS48c4ErG9dZVx/neC+Nvhz6J1rwwTMbeuA0K+DCxQCppa9EftkYCw7w47uL9H/SL0AvABLPTHWqqsCFHvvSqouANSuhTudFCqCjUmoyd0ONiCCsRql3INvxT7IKzVNHqeijA0eYm9DL8kNbzxhogHfJCAB+7TkwMQ6veWHxzE3//82NEOKDsdMO0wOQLaDu93axBWdsmziNpwZrGBLud34YT+Gz9TTDX6u/ZIwPrTLYABeEL9nhAezG0/SMdDRvSiqsoQl4QAZMAAep7BbkRAu7kuxlNhR+4sn/t9mpcR4zYovPOgMtAWPIekDmoXnjXZ5aA9fhrcIy/ama2P1fn5usvuq7XUhdZq5TKM/xVfiZOLqPpbfsYYmvzLUqfhALBvTOifZ/89cP4EDqo7zhrHpd/Z3xjuAZkbLOIaA9qYkOn6hfvRlNF9qF+vSho3rBfdcNJYas1KHeTnZagy3XbmOJ4Xsci9qyroim+PwiJRTxtgm/5g1lBiTCJanR8aArjOOnQ4VYYkqtm/ryevaPPfL5pIowdVUSgUusvPV9/9KMbYxYyx5xljNb53uB0lSdLDkiRlGWNPMMZ6BtBYj6q11GVdFIAENezvWFqTrxQMbWuKARfzvG4JiIUIGMABvSupd1UFnwkBbVD5eA5Jc+zUQdSjIsTLE0FskcJ+3HB9dZ4UEuWhDLq1ljs7/XtVBpYxdkgVBxpmZZbMHc2BifKnjenDJaG7rK2rojSsnxW3FG24/YeWUwU61IePZWBvp66gdZm9GWMfS5JkuniTZoz18Y3Bv4XmcNG966Npua1Opk7tCjHAIFOAz9z4AtONmnKZYH5bUgxCnU/9goFTR/chunUWfVe25oTvP8+ShkFlo4w3f1NNw+0gdd+eFTxk81U8Sj87xh1XZDR7fD+u7oLK2fDbapo4srfzMQA0a84Yx4GybVWUjphoTQMuqB5MYwZVeeguPWqUB9gIlJ93xAiHRoADtixUO9oMtf79GKQnX2SxowUdnissj3O0g3293kUxVpKkj2zQ5QT4JEni14yxCS7alsuZ8dRsa49Hl1PBYlPUcy29YczUoue2RsX5Bx4S7luTrIF1MY9+dNgw+uelk/jgzK8eTJCG/rzi/sM/RKhnD2v2pKpHiHYkLCmJQX75muligPkggg4etciLFIBYv9RLh4F+7LLJnngj6PDcDQgBLIDXXeamZTWBdJ8st+awIUHVxQc6NIyxpW5+imtJkv7r5otdX8x+P9H3zg1AYUtPFWV50ppVa4dHymD5VZCEa8UzLOc33StlGpOxE9rqBQMgufoYjRpY5XzhYkB/OW8MH5w+VRU8QA1a9wCLawSvAToBjEuP9kqiV66Z4QwyyoZN6AfgG9d5aVDW92uHcmCKepDCiYAa9w067Te4iktrQYu23nfOwZ56kQcSGh8cPpCr5+8r3ufstk/xAMS6ifjrYowJT3kfW8qZjLEzGWObfbRCAg4MKJex6WvWD4ioqaZWDHanB6CD2hjW9EztLc/0FZ3DQTqlOCFQQ0ESpbJCIvx9dlPhZVeQIkJFC+a7wQUg/OPiiZ7y4ewASAAL3m9PyHmAwsJXQeMGFdqK2KSoS6SXHDXSY/8hz4rvHuChQx9nj+9PyxftT4P27uFpE2OskPq90ccbgFWHcyFJUqMkSZ8wxkRIDHaiv87PxPjkpQeteLMqoqaMLjQV5/0Q1FQ2Wvf8MNGxrxKxoaWo4HvPzpcUYCQY/5dzLbsvSPrh2bNLpngG8ujJAz1zxHTbLJIP7OsMCsp87doZjq0GO21RdIinDNAsPX7fQGn73u/CHlrRzkcvmeSUKYD9iA/4ghbl40+Axb4PPANGkqQtgk6kjLE7JUkyJEna7HJE+kiSlBZ2n6uu4rsew6r+atf1hFO5mlVrxwgAbq1XBhmakhUSozUp1NHC8GDPgAjm/f6ksUVXPUP6zZ8xyDOQlx8zygEObMar5loOiBj0Ry6ayD1lAZJXr/WqXtSNuejAcEpSoeu+s5+nraLc7XEsfvXOwEBaXnb0KO6Riz7tP6QnnXXoMPr2tJblZpIkNTHGHE0i+MkYm4R8/j/GGFTrV4wx9wYyxQ1qOw+k5f6u8vIvq5Op07sqAOHB47QG0Su6pbavqSlp/0AUuwcAR9ieq5vR3wkPzrPT/OVk6iyHQOTDAKw89QAOMDglCGILgBw4tCdf4o/63OVExu6dByjE9AAeN5247tezIo8eXjXimIJGpJDQsE9hw6IdcD7wUWy5OcoD6q52f84YyzutIhQKLfeDCuBjjGUYYwjNOP8kSXoxgBZ0lQ5RoYuIpjcH2Vhl/wxHfqgNp4h+0YpjqkxN2SEGoDXp9rhM/XrlG/VYklUIBKLcO88anweGK+eOpm9OGsClBgYEDsdTV0x21KNQ5UgRQAY4BBCQIs995+SHe0CPqUK//Qf6P599cJ79hzZCQgOcoLn9h+M5DWY7Jo/2hnlCodClgoe+tMHdNnHNGDvMR7efeCdS1BkKha710QXfhlV9XZe0A1WdqrXUj0SviJhkqPJWow2nIny5MhroVd64aH9P+EOATqQAxE/mDPcAEMwH4/F3/hEjLFsPIRbubHglH8p5+Wpv2EXk/+91M/KkGWzFHwfUhzxvXx92AC7aB/Bdcayl/mMH9ePgQ5sRq0T73EAR/POnkiS9J+jsFNLvdj8dY+xcd5k2bXOrpB8KiyTWnWHvBfYa+cWnw8qAFkd86Fe4GWJq8n/aMh+MPb697Pidm9m3nnlQoFRxBnhNLR0ysrczkCLvgupBXM0Vk55C+h0/I9j2xEch6kEKeoAsYJD50jD35ijQou5rF1ghln369uBl4TlAidCOaKudvu3mn7iurKw8kjG23U2L+hljxwkaV7reTQdHhDG2wfXefbm3+8a5DqupLV1OCqopSMDLnE4wBKPlG9riCX+2YiaP4fkYSDeeUlgCYinWwSMsNeYHxeiB3nicG0gCTFg4cOE3RzrTX+66UZ47DwfO6lo6bvqgQABCJQt60KLs5YvGctr+vSoIU3Hu97YD4YCQMbbOzT/7GuADDbxahxbXjLHxPvq9/DQ2nd/7DTHGPmCMjfTlt27Dmn6JvTSrrSdfdZ4ktADoqGD0ZHvLyagO48UABKVbIAFd+z8EM4+cOMBj2GNwkR8xwQF9rHnTIb5Yms147oiAVuRxX2MmY9FMK+wytK83Fifyv3Zty34QqO+rjrMC4hcfNcqzWhv0AKCoB+D77ULLSwaAPrgh4rzDYU1/PW8CFgj4AeXffH6aTQMV6qYVQWXPRqWKiooFPjqehzE2wA00SZJesvs3wv3ccw0Alu3uuABzgJsNiXWLPZ1gjLXlZHzMCAQ5IWDqS1dPdwYQDsMTP5vMVR7eYVVM0EyDAMW/LpvEZ1gE6JvrYvTJ8pl8xQnyQzXWnd4yDYZ89gDxRQVQl5ihWRixwHrctIH0/u8jeQBEnueunEIwO2DroWzsYQH4RN3iA/jxYcMxdekGlagTBwDMkiTpKbsNAOo40SZ36uc1Y+w693tx7aLrJUnSRjxnjF3jep5/GUmuO6ZLTc3hAKX6hlp/T0xN2eBmfrFrSJiTaryBYMHEgX0qCXG9Xxw3hgeTMXj4iy8WO+RiXI0KencKusmjetPcaYNo3vRBntMVDh3fj7BIAeAHWNz5cC3qESlWuaCdH/wh2AsWdEgxg+K2CSH5AM5MMnYOY+xyd6DYrteZu0V+SZIwzbYveOpvF1bD+HkdCoUSfjq7nNcZY9hKm7X71IqzprFJSdXfKfvwi5CGaopmrFy3n58ppqrcXwx0/ncw+rFWzs9Im3EOILBk6eGfTuTesVB7QgpiLV5QfquMFlCdf8RI7qSI/LXjLKkVlBcDue/gKvpixUwuibEaplg7eTzQu1U0Z9UTVW0enWiDw99WOA3oJ+xBR3UGtGm7n9eMsfMLlCn4hrK/E5Av+FFY03tENL1JbIMsczBmsaDC35NGNbawLXPCGKTlp+wvGOYMjj0oXErBJhRLmNwAhppMLD6A22JBAyHKgGTChidrRbKYB1aoUZWpb0/LphQDLvJgWZa7Tth4mNlw1yNo4dRgDloA29RkLvlMVfFv6Dfs/JB8wq7LhEKhm/x8tCWemx95i4DtPMK25GWK9jHGQO8JWPvrCLwPq/rPyxx43PEJq6km7OwL6kRbPGExaK9cPZ1GDrTW2ImBXRwbyj1JQeMGH675c1WhbfEoibCKyIs0MrYvPXPFFAcYQeVAsmGlssiHxa8PXXCIk8dfp7ALQQ8J+c71YW7vecrmTpN8XwBvBvsWlt7PGKsIoIMKRhgGYZpLGGP9gmZL7Hxj7LlhAdZXC64BDKoo6FlY1e+xTkgt27WCWI6VhsQOar+pyQ+2JSAtAAsJBRtq803Wmjk4Hw7QfNNoAhhi4JEXEg2nauEPNh6cDysQHbyUS5SBelAv8kHSFcqDulAmaOGR49rdPt5nnO2cUPL2zPj4hF8u8Hi0vve43dl7fxYIg8JL8P3UO7sPa/pr5RobtHbGpfwhBKdLZlKZ29a1gQIMXTU1+LEkMjVqyoUOI7ryxdTbXuoTUdd9Xo5bNxEuCmv6L4rxl2/e6cKn5bftQ8B5LspXRrx2djGedLl3cx5/vDKspraWnU1oAbCogWuq8k/8O8jaNqj587dllt/yci2Vu7bLgau1DeYLVzV9c3mpY33TztpPa+b0tG27dp2YVWagcwLMfM4b4Isr/tUpO2NN13uP0+sjqv6wZXt17jG+aANO8m8NF5vq5VrbSfgagRAODfYOK78mLVxUC7SGR12KpiapX2r92hH3jjtj3hib0qktvz9naLGlXwMQ5jjoADxN/tO2lTN3++/vlRVQw5r+D+tkLcwf77bjfe2f/Epd11ZmZOqVmYaqbOKeMf8Jqi7xS0pcatuq9ktDja1pa7+/1vSWWk7dDQeFLwzY1b8toupUo6ZObg9T7UMsX7ekSdk6GfyIXCuMFF2fjkenYrFte/r9tc4bXfF8v5pkw5E1aupfHIiWh4rZinap6BbJqm+oTqQW1N7yRtDGmZJ4u02bM8RMysc0avIDkDAiEN1JvzHHvVmrHbDtYncYauxQbLIqqXN7eqZIXcM3I4kG/NbcX/jPu/IfJ7TUtAtU4nQDLj3x3DqlYd3HYTX1dERtWB6pW3dKWNOH7A5+NtZFZVON/tTQlNtMVXndiiFasxeuUE57HBkrr9jcjvgkj1HK/zFU+XasVoGk2x193TPr4McB6xNqkutjM+IN88Lx9fPxF9X0b4U1fQo2yZcbY3Zos0fg1FVDi/3KUOW/G6r8gqHJrxgqlnvJmwxN+dxUlS2Gpmw3NdkwNMU0VWWHoclfmlrsU1NVNhma/L6pyVD5KTMZe9TUlGVGQj7VqI/lreIpt/53t6ebA90c6OZANwe6OdDNga8dB/4fL9+1bRv1yY8AAAAASUVORK5CYII=)\n",
        "\n",
        "Scikit-learn is an open source machine learning library that supports supervised and unsupervised learning. It also provides various tools for model fitting, data preprocessing, model selection and evaluation, and many other utilities.\n",
        "\n",
        "Documentation Link: https://scikit-learn.org/stable/\n",
        "\n",
        "\n",
        "### **Tensorflow**\n",
        "![image.png](data:image/png;base64,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)\n",
        "\n",
        "TensorFlow is an end-to-end open source platform for machine learning. It has a comprehensive, flexible ecosystem of tools, libraries and community resources that lets researchers push the state-of-the-art in ML and developers easily build and deploy ML powered applications.\n",
        "\n",
        "Documentation Link: https://www.tensorflow.org/\n",
        "\n",
        "\n",
        "\n"
      ]
    },
    {
      "cell_type": "markdown",
      "metadata": {
        "id": "PvK1NHsw0ZVk"
      },
      "source": [
        "# **ANSWER 1: MNIST DIGIT CLASSIFICATION**"
      ]
    },
    {
      "cell_type": "code",
      "metadata": {
        "id": "3vuijgZPy-MU"
      },
      "source": [
        "import numpy as np                  \n",
        "import matplotlib.pyplot as plt\n",
        "from sklearn.naive_bayes import GaussianNB\n",
        "from sklearn.metrics import confusion_matrix\n",
        "from tensorflow.keras.datasets import mnist\n",
        "from sklearn import metrics"
      ],
      "execution_count": null,
      "outputs": []
    },
    {
      "cell_type": "code",
      "metadata": {
        "id": "0iAKTuvb3BtC",
        "colab": {
          "base_uri": "https://localhost:8080/"
        },
        "outputId": "e59e0bd9-292b-49f3-b300-f21906e20b8e"
      },
      "source": [
        "(x_train1,y_train1),(x_test1,y_test1)=mnist.load_data()\r\n",
        "x_train1=x_train1.reshape(60000,784)\r\n",
        "x_test1=x_test1.reshape(10000,784)"
      ],
      "execution_count": null,
      "outputs": [
        {
          "output_type": "stream",
          "text": [
            "Downloading data from https://storage.googleapis.com/tensorflow/tf-keras-datasets/mnist.npz\n",
            "11493376/11490434 [==============================] - 0s 0us/step\n"
          ],
          "name": "stdout"
        }
      ]
    },
    {
      "cell_type": "code",
      "metadata": {
        "id": "Cis3DcBA_FU1"
      },
      "source": [
        "x_train=[]\r\n",
        "y_train=[]\r\n",
        "for i in range(60000):\r\n",
        "  if y_train1[i]==0 or y_train1[i]==1:\r\n",
        "    temp=[]\r\n",
        "    for j in range(784):\r\n",
        "      temp.append(x_train1[i][j])\r\n",
        "    x_train.append(temp)\r\n",
        "    y_train.append(y_train1[i])"
      ],
      "execution_count": null,
      "outputs": []
    },
    {
      "cell_type": "code",
      "metadata": {
        "colab": {
          "base_uri": "https://localhost:8080/"
        },
        "id": "ftLl0lpkFaau",
        "outputId": "d0edfe45-ac64-4182-9365-8050e9dcf41d"
      },
      "source": [
        "print(len(x_train[0]))"
      ],
      "execution_count": null,
      "outputs": [
        {
          "output_type": "stream",
          "text": [
            "784\n"
          ],
          "name": "stdout"
        }
      ]
    },
    {
      "cell_type": "code",
      "metadata": {
        "id": "AUTb7WanAgUA"
      },
      "source": [
        "x_test=[]\r\n",
        "y_test=[]\r\n",
        "for i in range(10000):\r\n",
        "  if y_test1[i]==0 or y_test1[i]==1:\r\n",
        "    temp=[]\r\n",
        "    for j in range(784):\r\n",
        "      temp.append(x_test1[i][j])\r\n",
        "    x_test.append(temp)\r\n",
        "    y_test.append(y_test1[i])"
      ],
      "execution_count": null,
      "outputs": []
    },
    {
      "cell_type": "code",
      "metadata": {
        "colab": {
          "base_uri": "https://localhost:8080/"
        },
        "id": "3qgyJtu7Cxdo",
        "outputId": "5372dce1-7326-41cb-a28b-c1ed36c044d4"
      },
      "source": [
        "print(len(x_test))"
      ],
      "execution_count": null,
      "outputs": [
        {
          "output_type": "stream",
          "text": [
            "2115\n"
          ],
          "name": "stdout"
        }
      ]
    },
    {
      "cell_type": "code",
      "metadata": {
        "id": "Xl4X9uaW-tnU"
      },
      "source": [
        "x_train=np.matrix(x_train)\r\n",
        "y_train=np.array(y_train)\r\n",
        "x_test=np.matrix(x_test)\r\n",
        "y_test=np.array(y_test)\r\n",
        "# x_train.reshape((12665,784))"
      ],
      "execution_count": null,
      "outputs": []
    },
    {
      "cell_type": "code",
      "metadata": {
        "colab": {
          "base_uri": "https://localhost:8080/",
          "height": 265
        },
        "id": "pZl91Dfo3qd5",
        "outputId": "2d0a59b6-43e2-4dce-b8b9-50420d5e7c7a"
      },
      "source": [
        "plt.imshow(x_train[4].reshape((28,28)),cmap='gray')\r\n",
        "plt.show()"
      ],
      "execution_count": null,
      "outputs": [
        {
          "output_type": "display_data",
          "data": {
            "image/png": "[encoded data removed]",
            "text/plain": [
              "<Figure size 432x288 with 1 Axes>"
            ]
          },
          "metadata": {
            "tags": [],
            "needs_background": "light"
          }
        }
      ]
    },
    {
      "cell_type": "code",
      "metadata": {
        "id": "9KdAttfO35ih"
      },
      "source": [
        "nb_model=GaussianNB()"
      ],
      "execution_count": null,
      "outputs": []
    },
    {
      "cell_type": "code",
      "metadata": {
        "colab": {
          "base_uri": "https://localhost:8080/"
        },
        "id": "r-HZliry4d5H",
        "outputId": "22294bee-33a1-4cbd-b168-37d69f8a5fa6"
      },
      "source": [
        "y_train"
      ],
      "execution_count": null,
      "outputs": [
        {
          "output_type": "execute_result",
          "data": {
            "text/plain": [
              "array([0, 1, 1, ..., 1, 0, 1], dtype=uint8)"
            ]
          },
          "metadata": {
            "tags": []
          },
          "execution_count": 13
        }
      ]
    },
    {
      "cell_type": "code",
      "metadata": {
        "id": "NMLrQBG04VeJ"
      },
      "source": [
        "fit_nb=nb_model.fit(x_train,y_train)"
      ],
      "execution_count": null,
      "outputs": []
    },
    {
      "cell_type": "code",
      "metadata": {
        "colab": {
          "base_uri": "https://localhost:8080/"
        },
        "id": "Vp5CO7U64lLp",
        "outputId": "0eb464a9-8899-445c-e0d9-7e75c44b1cbb"
      },
      "source": [
        "prediction=fit_nb.predict(x_test)\r\n",
        "con_matrix=confusion_matrix(y_test,prediction)\r\n",
        "print(con_matrix)"
      ],
      "execution_count": null,
      "outputs": [
        {
          "output_type": "stream",
          "text": [
            "[[ 976    4]\n",
            " [  22 1113]]\n"
          ],
          "name": "stdout"
        }
      ]
    },
    {
      "cell_type": "code",
      "metadata": {
        "id": "LloqCEy_47ex"
      },
      "source": [
        "def diagonal_sum(con_matrix):\r\n",
        "  sum=0\r\n",
        "  for i in range(2):\r\n",
        "    for j in range(2):\r\n",
        "      if i==j:\r\n",
        "        sum+=con_matrix[i][j]\r\n",
        "  return sum"
      ],
      "execution_count": null,
      "outputs": []
    },
    {
      "cell_type": "code",
      "metadata": {
        "colab": {
          "base_uri": "https://localhost:8080/"
        },
        "id": "ERqEZaED6BuS",
        "outputId": "149faebd-7651-4cbb-deed-3522b4b93610"
      },
      "source": [
        "sum=diagonal_sum(con_matrix)\r\n",
        "print(sum)"
      ],
      "execution_count": null,
      "outputs": [
        {
          "output_type": "stream",
          "text": [
            "2089\n"
          ],
          "name": "stdout"
        }
      ]
    },
    {
      "cell_type": "code",
      "metadata": {
        "colab": {
          "base_uri": "https://localhost:8080/"
        },
        "id": "ejERwYlw6I3S",
        "outputId": "85e57556-f849-4ada-d6ba-53ddeb22ecb9"
      },
      "source": [
        "print(f'Accuracy % : {sum/2115}')"
      ],
      "execution_count": null,
      "outputs": [
        {
          "output_type": "stream",
          "text": [
            "Accuracy % : 0.9877068557919622\n"
          ],
          "name": "stdout"
        }
      ]
    },
    {
      "cell_type": "code",
      "metadata": {
        "colab": {
          "base_uri": "https://localhost:8080/",
          "height": 279
        },
        "id": "N_q1zosb6Xni",
        "outputId": "73189c9d-d1f5-4411-9fed-34e1393b62a5"
      },
      "source": [
        "metrics.plot_roc_curve(fit_nb, x_test, y_test)\r\n",
        "plt.show()  "
      ],
      "execution_count": null,
      "outputs": [
        {
          "output_type": "display_data",
          "data": {
            "image/png": "[encoded data removed]",
            "text/plain": [
              "<Figure size 432x288 with 1 Axes>"
            ]
          },
          "metadata": {
            "tags": [],
            "needs_background": "light"
          }
        }
      ]
    },
    {
      "cell_type": "markdown",
      "metadata": {
        "id": "F1sXw8G3zJZT"
      },
      "source": [
        "### **For Classification Between 3 and 8**"
      ]
    },
    {
      "cell_type": "code",
      "metadata": {
        "id": "R2CYMV5hzJJ7"
      },
      "source": [
        "(x_train1,y_train1),(x_test1,y_test1)=mnist.load_data()\n",
        "x_train1=x_train1.reshape(60000,784)\n",
        "x_test1=x_test1.reshape(10000,784)"
      ],
      "execution_count": null,
      "outputs": []
    },
    {
      "cell_type": "code",
      "metadata": {
        "id": "7eUnQpiPypEe"
      },
      "source": [
        "x_train=[]\n",
        "y_train=[]\n",
        "for i in range(60000):\n",
        "  if y_train1[i]==3 or y_train1[i]==8:\n",
        "    temp=[]\n",
        "    for j in range(784):\n",
        "      temp.append(x_train1[i][j])\n",
        "    x_train.append(temp)\n",
        "    y_train.append(y_train1[i])"
      ],
      "execution_count": null,
      "outputs": []
    },
    {
      "cell_type": "code",
      "metadata": {
        "colab": {
          "base_uri": "https://localhost:8080/"
        },
        "id": "o-RlLqgmzVmQ",
        "outputId": "a20466c2-7b3e-49b0-8de7-788180532a56"
      },
      "source": [
        "print(len(x_train))"
      ],
      "execution_count": null,
      "outputs": [
        {
          "output_type": "stream",
          "text": [
            "11982\n"
          ],
          "name": "stdout"
        }
      ]
    },
    {
      "cell_type": "code",
      "metadata": {
        "id": "HWKJlNfuzYJV"
      },
      "source": [
        "x_test=[]\n",
        "y_test=[]\n",
        "for i in range(10000):\n",
        "  if y_test1[i]==3 or y_test1[i]==8:\n",
        "    temp=[]\n",
        "    for j in range(784):\n",
        "      temp.append(x_test1[i][j])\n",
        "    x_test.append(temp)\n",
        "    y_test.append(y_test1[i])"
      ],
      "execution_count": null,
      "outputs": []
    },
    {
      "cell_type": "code",
      "metadata": {
        "id": "eAVAJwF6zaTL"
      },
      "source": [
        "x_train=np.matrix(x_train)\n",
        "y_train=np.array(y_train)\n",
        "x_test=np.matrix(x_test)\n",
        "y_test=np.array(y_test)"
      ],
      "execution_count": null,
      "outputs": []
    },
    {
      "cell_type": "code",
      "metadata": {
        "colab": {
          "base_uri": "https://localhost:8080/",
          "height": 265
        },
        "id": "sZONJ78OzcPB",
        "outputId": "67360205-2bc8-4863-82ad-25b26245b906"
      },
      "source": [
        "plt.imshow(x_train[9].reshape((28,28)),cmap='gray')\n",
        "plt.show()"
      ],
      "execution_count": null,
      "outputs": [
        {
          "output_type": "display_data",
          "data": {
            "image/png": "[encoded data removed]",
            "text/plain": [
              "<Figure size 432x288 with 1 Axes>"
            ]
          },
          "metadata": {
            "tags": [],
            "needs_background": "light"
          }
        }
      ]
    },
    {
      "cell_type": "code",
      "metadata": {
        "id": "r1TzJr24ze2j"
      },
      "source": [
        "nb_model=GaussianNB()"
      ],
      "execution_count": null,
      "outputs": []
    },
    {
      "cell_type": "code",
      "metadata": {
        "id": "Gr8w1fIOzhWE"
      },
      "source": [
        "fit_nb=nb_model.fit(x_train,y_train)"
      ],
      "execution_count": null,
      "outputs": []
    },
    {
      "cell_type": "code",
      "metadata": {
        "colab": {
          "base_uri": "https://localhost:8080/"
        },
        "id": "1zwP886uzjfn",
        "outputId": "cd0415af-a095-4fa7-811d-144f14c2dea0"
      },
      "source": [
        "prediction=fit_nb.predict(x_test)\n",
        "con_matrix=confusion_matrix(y_test,prediction)\n",
        "print(con_matrix)"
      ],
      "execution_count": null,
      "outputs": [
        {
          "output_type": "stream",
          "text": [
            "[[435 575]\n",
            " [ 22 952]]\n"
          ],
          "name": "stdout"
        }
      ]
    },
    {
      "cell_type": "code",
      "metadata": {
        "id": "8ZMd9vCSzlxu"
      },
      "source": [
        "def diagonal_sum(con_matrix):\n",
        "  sum=0\n",
        "  totalSum=0\n",
        "  for i in range(2):\n",
        "    for j in range(2):\n",
        "      totalSum+=con_matrix[i][j]\n",
        "      if i==j:\n",
        "        sum+=con_matrix[i][j]\n",
        "  return sum,totalSum"
      ],
      "execution_count": null,
      "outputs": []
    },
    {
      "cell_type": "code",
      "metadata": {
        "colab": {
          "base_uri": "https://localhost:8080/"
        },
        "id": "c7eZt3oNzn8M",
        "outputId": "7777c630-ec05-4518-c5b2-4fd298182cff"
      },
      "source": [
        "sum,totalSum=diagonal_sum(con_matrix)\n",
        "print(sum,totalSum)"
      ],
      "execution_count": null,
      "outputs": [
        {
          "output_type": "stream",
          "text": [
            "1387 1984\n"
          ],
          "name": "stdout"
        }
      ]
    },
    {
      "cell_type": "code",
      "metadata": {
        "colab": {
          "base_uri": "https://localhost:8080/"
        },
        "id": "23SlWLX0zp8n",
        "outputId": "0f938028-18c4-46aa-b337-ddff80c1d80b"
      },
      "source": [
        "print(f'Accuracy % : {sum/totalSum}')"
      ],
      "execution_count": null,
      "outputs": [
        {
          "output_type": "stream",
          "text": [
            "Accuracy % : 0.6990927419354839\n"
          ],
          "name": "stdout"
        }
      ]
    },
    {
      "cell_type": "code",
      "metadata": {
        "colab": {
          "base_uri": "https://localhost:8080/",
          "height": 279
        },
        "id": "YZZBWZQDzzWc",
        "outputId": "8c5629ec-eb0e-477c-c6e8-6bf930d08430"
      },
      "source": [
        "metrics.plot_roc_curve(fit_nb, x_test, y_test)\n",
        "plt.show()  "
      ],
      "execution_count": null,
      "outputs": [
        {
          "output_type": "display_data",
          "data": {
            "image/png": "[encoded data removed]",
            "text/plain": [
              "<Figure size 432x288 with 1 Axes>"
            ]
          },
          "metadata": {
            "tags": [],
            "needs_background": "light"
          }
        }
      ]
    },
    {
      "cell_type": "markdown",
      "metadata": {
        "id": "vI_EPp213b4F"
      },
      "source": [
        "### **CONCLUSION & DISCUSSION**\n",
        "\n",
        "We see a Drastic Drop in Accuracy in Case 2 because the digits 3 and 8 are very similar in nature as compared to digits 1 and 0. This confuses our classifier and it tends to misclassify the digit. \n",
        "\n",
        "\n",
        "\n"
      ]
    }
  ]
}